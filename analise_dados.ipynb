{
 "cells": [
  {
   "cell_type": "code",
   "execution_count": 1,
   "id": "2f4066aa",
   "metadata": {},
   "outputs": [],
   "source": [
    "# importando as bibliotecas necessárias\n",
    "import numpy as np\n",
    "import pandas as pd\n",
    "import matplotlib.pyplot as plt\n",
    "import seaborn as sns\n",
    "from sklearn.linear_model import LinearRegression\n",
    "from sklearn.model_selection import train_test_split\n",
    "from sklearn.metrics import mean_squared_error, r2_score\n"
   ]
  },
  {
   "cell_type": "code",
   "execution_count": 2,
   "id": "89a02aed",
   "metadata": {},
   "outputs": [],
   "source": [
    "#lendo o arquivo Excel\n",
    "arquivo = 'Case.xlsx'"
   ]
  },
  {
   "cell_type": "code",
   "execution_count": 3,
   "id": "2bced00d",
   "metadata": {},
   "outputs": [],
   "source": [
    "# importando a planilha Base do arquivo Excel\n",
    "df = pd.read_excel(arquivo, sheet_name='Base')"
   ]
  },
  {
   "cell_type": "code",
   "execution_count": 4,
   "id": "1201128c",
   "metadata": {},
   "outputs": [
    {
     "data": {
      "text/html": [
       "<div>\n",
       "<style scoped>\n",
       "    .dataframe tbody tr th:only-of-type {\n",
       "        vertical-align: middle;\n",
       "    }\n",
       "\n",
       "    .dataframe tbody tr th {\n",
       "        vertical-align: top;\n",
       "    }\n",
       "\n",
       "    .dataframe thead th {\n",
       "        text-align: right;\n",
       "    }\n",
       "</style>\n",
       "<table border=\"1\" class=\"dataframe\">\n",
       "  <thead>\n",
       "    <tr style=\"text-align: right;\">\n",
       "      <th></th>\n",
       "      <th>Aluno</th>\n",
       "      <th>Transação</th>\n",
       "      <th>Produto</th>\n",
       "      <th>Forma Pagamento</th>\n",
       "      <th>Num Parcela Atual</th>\n",
       "      <th>Total Parcelas a Pagar</th>\n",
       "      <th>Valor Pago (nessa parcela)</th>\n",
       "      <th>Data Compra</th>\n",
       "    </tr>\n",
       "  </thead>\n",
       "  <tbody>\n",
       "    <tr>\n",
       "      <th>0</th>\n",
       "      <td>Aluno1</td>\n",
       "      <td>HP033154662</td>\n",
       "      <td>Excel</td>\n",
       "      <td>BoletoBancario</td>\n",
       "      <td>1</td>\n",
       "      <td>1</td>\n",
       "      <td>597.00</td>\n",
       "      <td>2019-01-04</td>\n",
       "    </tr>\n",
       "    <tr>\n",
       "      <th>1</th>\n",
       "      <td>Aluno2</td>\n",
       "      <td>HP131154688</td>\n",
       "      <td>Excel</td>\n",
       "      <td>CartaoDeCredito</td>\n",
       "      <td>1</td>\n",
       "      <td>1</td>\n",
       "      <td>696.96</td>\n",
       "      <td>2019-01-07</td>\n",
       "    </tr>\n",
       "    <tr>\n",
       "      <th>2</th>\n",
       "      <td>Aluno3</td>\n",
       "      <td>HP109154696</td>\n",
       "      <td>Excel</td>\n",
       "      <td>CartaoDeCredito</td>\n",
       "      <td>1</td>\n",
       "      <td>1</td>\n",
       "      <td>792.65</td>\n",
       "      <td>2019-01-08</td>\n",
       "    </tr>\n",
       "    <tr>\n",
       "      <th>3</th>\n",
       "      <td>Aluno4</td>\n",
       "      <td>HP185154697</td>\n",
       "      <td>Excel</td>\n",
       "      <td>CartaoDeCredito</td>\n",
       "      <td>1</td>\n",
       "      <td>1</td>\n",
       "      <td>696.96</td>\n",
       "      <td>2019-01-08</td>\n",
       "    </tr>\n",
       "    <tr>\n",
       "      <th>4</th>\n",
       "      <td>Aluno5</td>\n",
       "      <td>HP133154697</td>\n",
       "      <td>Excel</td>\n",
       "      <td>CartaoDeCredito</td>\n",
       "      <td>1</td>\n",
       "      <td>1</td>\n",
       "      <td>696.99</td>\n",
       "      <td>2019-01-08</td>\n",
       "    </tr>\n",
       "  </tbody>\n",
       "</table>\n",
       "</div>"
      ],
      "text/plain": [
       "    Aluno    Transação Produto  Forma Pagamento  Num Parcela Atual  \\\n",
       "0  Aluno1  HP033154662   Excel   BoletoBancario                  1   \n",
       "1  Aluno2  HP131154688   Excel  CartaoDeCredito                  1   \n",
       "2  Aluno3  HP109154696   Excel  CartaoDeCredito                  1   \n",
       "3  Aluno4  HP185154697   Excel  CartaoDeCredito                  1   \n",
       "4  Aluno5  HP133154697   Excel  CartaoDeCredito                  1   \n",
       "\n",
       "   Total Parcelas a Pagar  Valor Pago (nessa parcela) Data Compra  \n",
       "0                       1                      597.00  2019-01-04  \n",
       "1                       1                      696.96  2019-01-07  \n",
       "2                       1                      792.65  2019-01-08  \n",
       "3                       1                      696.96  2019-01-08  \n",
       "4                       1                      696.99  2019-01-08  "
      ]
     },
     "execution_count": 4,
     "metadata": {},
     "output_type": "execute_result"
    }
   ],
   "source": [
    "#Lendo as primeiras linhas do DataFrame\n",
    "df.head()"
   ]
  },
  {
   "cell_type": "code",
   "execution_count": 5,
   "id": "0e166adb",
   "metadata": {},
   "outputs": [
    {
     "name": "stdout",
     "output_type": "stream",
     "text": [
      "<class 'pandas.core.frame.DataFrame'>\n",
      "RangeIndex: 71005 entries, 0 to 71004\n",
      "Data columns (total 8 columns):\n",
      " #   Column                      Non-Null Count  Dtype         \n",
      "---  ------                      --------------  -----         \n",
      " 0   Aluno                       71005 non-null  object        \n",
      " 1   Transação                   71005 non-null  object        \n",
      " 2   Produto                     71005 non-null  object        \n",
      " 3   Forma Pagamento             71005 non-null  object        \n",
      " 4   Num Parcela Atual           71005 non-null  int64         \n",
      " 5   Total Parcelas a Pagar      71005 non-null  int64         \n",
      " 6   Valor Pago (nessa parcela)  71005 non-null  float64       \n",
      " 7   Data Compra                 71005 non-null  datetime64[ns]\n",
      "dtypes: datetime64[ns](1), float64(1), int64(2), object(4)\n",
      "memory usage: 4.3+ MB\n"
     ]
    }
   ],
   "source": [
    "#Exibindo informações do DataFrame\n",
    "df.info()"
   ]
  },
  {
   "cell_type": "code",
   "execution_count": 6,
   "id": "7f7879da",
   "metadata": {},
   "outputs": [
    {
     "data": {
      "text/html": [
       "<div>\n",
       "<style scoped>\n",
       "    .dataframe tbody tr th:only-of-type {\n",
       "        vertical-align: middle;\n",
       "    }\n",
       "\n",
       "    .dataframe tbody tr th {\n",
       "        vertical-align: top;\n",
       "    }\n",
       "\n",
       "    .dataframe thead th {\n",
       "        text-align: right;\n",
       "    }\n",
       "</style>\n",
       "<table border=\"1\" class=\"dataframe\">\n",
       "  <thead>\n",
       "    <tr style=\"text-align: right;\">\n",
       "      <th></th>\n",
       "      <th>Num Parcela Atual</th>\n",
       "      <th>Total Parcelas a Pagar</th>\n",
       "      <th>Valor Pago (nessa parcela)</th>\n",
       "      <th>Data Compra</th>\n",
       "    </tr>\n",
       "  </thead>\n",
       "  <tbody>\n",
       "    <tr>\n",
       "      <th>count</th>\n",
       "      <td>71005.000000</td>\n",
       "      <td>71005.000000</td>\n",
       "      <td>71005.000000</td>\n",
       "      <td>71005</td>\n",
       "    </tr>\n",
       "    <tr>\n",
       "      <th>mean</th>\n",
       "      <td>2.620083</td>\n",
       "      <td>3.133681</td>\n",
       "      <td>402.722066</td>\n",
       "      <td>2020-11-16 14:52:25.975635456</td>\n",
       "    </tr>\n",
       "    <tr>\n",
       "      <th>min</th>\n",
       "      <td>1.000000</td>\n",
       "      <td>1.000000</td>\n",
       "      <td>2.410000</td>\n",
       "      <td>2019-01-04 00:00:00</td>\n",
       "    </tr>\n",
       "    <tr>\n",
       "      <th>25%</th>\n",
       "      <td>1.000000</td>\n",
       "      <td>1.000000</td>\n",
       "      <td>77.650000</td>\n",
       "      <td>2020-06-21 00:00:00</td>\n",
       "    </tr>\n",
       "    <tr>\n",
       "      <th>50%</th>\n",
       "      <td>1.000000</td>\n",
       "      <td>1.000000</td>\n",
       "      <td>497.000000</td>\n",
       "      <td>2020-12-16 00:00:00</td>\n",
       "    </tr>\n",
       "    <tr>\n",
       "      <th>75%</th>\n",
       "      <td>3.000000</td>\n",
       "      <td>1.000000</td>\n",
       "      <td>650.100000</td>\n",
       "      <td>2021-05-03 00:00:00</td>\n",
       "    </tr>\n",
       "    <tr>\n",
       "      <th>max</th>\n",
       "      <td>12.000000</td>\n",
       "      <td>12.000000</td>\n",
       "      <td>2334.720000</td>\n",
       "      <td>2022-09-15 00:00:00</td>\n",
       "    </tr>\n",
       "    <tr>\n",
       "      <th>std</th>\n",
       "      <td>2.860485</td>\n",
       "      <td>4.235443</td>\n",
       "      <td>323.855943</td>\n",
       "      <td>NaN</td>\n",
       "    </tr>\n",
       "  </tbody>\n",
       "</table>\n",
       "</div>"
      ],
      "text/plain": [
       "       Num Parcela Atual  Total Parcelas a Pagar  Valor Pago (nessa parcela)  \\\n",
       "count       71005.000000            71005.000000                71005.000000   \n",
       "mean            2.620083                3.133681                  402.722066   \n",
       "min             1.000000                1.000000                    2.410000   \n",
       "25%             1.000000                1.000000                   77.650000   \n",
       "50%             1.000000                1.000000                  497.000000   \n",
       "75%             3.000000                1.000000                  650.100000   \n",
       "max            12.000000               12.000000                 2334.720000   \n",
       "std             2.860485                4.235443                  323.855943   \n",
       "\n",
       "                         Data Compra  \n",
       "count                          71005  \n",
       "mean   2020-11-16 14:52:25.975635456  \n",
       "min              2019-01-04 00:00:00  \n",
       "25%              2020-06-21 00:00:00  \n",
       "50%              2020-12-16 00:00:00  \n",
       "75%              2021-05-03 00:00:00  \n",
       "max              2022-09-15 00:00:00  \n",
       "std                              NaN  "
      ]
     },
     "execution_count": 6,
     "metadata": {},
     "output_type": "execute_result"
    }
   ],
   "source": [
    "#Exibindo estatísticas descritivas do DataFrame\n",
    "df.describe()"
   ]
  },
  {
   "cell_type": "code",
   "execution_count": 7,
   "id": "7dee9b07",
   "metadata": {},
   "outputs": [
    {
     "data": {
      "text/plain": [
       "Aluno                         0\n",
       "Transação                     0\n",
       "Produto                       0\n",
       "Forma Pagamento               0\n",
       "Num Parcela Atual             0\n",
       "Total Parcelas a Pagar        0\n",
       "Valor Pago (nessa parcela)    0\n",
       "Data Compra                   0\n",
       "dtype: int64"
      ]
     },
     "execution_count": 7,
     "metadata": {},
     "output_type": "execute_result"
    }
   ],
   "source": [
    "#Exibindo a quantidade de valores nulos em cada coluna do DataFrame\n",
    "df.isnull().sum()"
   ]
  },
  {
   "cell_type": "markdown",
   "id": "b3590c9c",
   "metadata": {},
   "source": [
    "### 1. % Recompra (de todos os alunos, quantos % compraram pelo menos 2 cursos)\n"
   ]
  },
  {
   "cell_type": "code",
   "execution_count": 8,
   "id": "a2f074c2",
   "metadata": {},
   "outputs": [
    {
     "data": {
      "text/plain": [
       "Aluno\n",
       "Aluno1        1\n",
       "Aluno10       3\n",
       "Aluno100      1\n",
       "Aluno1000     2\n",
       "Aluno10000    1\n",
       "             ..\n",
       "Aluno9995     3\n",
       "Aluno9996     3\n",
       "Aluno9997     5\n",
       "Aluno9998     1\n",
       "Aluno9999     1\n",
       "Name: Produto, Length: 34959, dtype: int64"
      ]
     },
     "execution_count": 8,
     "metadata": {},
     "output_type": "execute_result"
    }
   ],
   "source": [
    "quantidade_de_produtos_por_aluno = df.groupby('Aluno')['Produto'].nunique()\n",
    "quantidade_de_produtos_por_aluno "
   ]
  },
  {
   "cell_type": "code",
   "execution_count": 9,
   "id": "a0431086",
   "metadata": {},
   "outputs": [
    {
     "data": {
      "text/plain": [
       "Aluno\n",
       "Aluno10       3\n",
       "Aluno1000     2\n",
       "Aluno10003    2\n",
       "Aluno10005    2\n",
       "Aluno10006    2\n",
       "             ..\n",
       "Aluno9992     2\n",
       "Aluno9993     2\n",
       "Aluno9995     3\n",
       "Aluno9996     3\n",
       "Aluno9997     5\n",
       "Name: Produto, Length: 7933, dtype: int64"
      ]
     },
     "execution_count": 9,
     "metadata": {},
     "output_type": "execute_result"
    }
   ],
   "source": [
    "aluno_mais_de_um_curso = quantidade_de_produtos_por_aluno[quantidade_de_produtos_por_aluno > 1]\n",
    "aluno_mais_de_um_curso\n"
   ]
  },
  {
   "cell_type": "code",
   "execution_count": 10,
   "id": "c3138373",
   "metadata": {},
   "outputs": [
    {
     "name": "stdout",
     "output_type": "stream",
     "text": [
      "Percentual de alunos que compraram mais de um curso: 22.69%\n"
     ]
    }
   ],
   "source": [
    "# Calculando o percentual de alunos que compraram mais de um curso\n",
    "percentual_recompra = (len(aluno_mais_de_um_curso) / len(df['Aluno'].unique())) * 100\n",
    "print(f\"Percentual de alunos que compraram mais de um curso: {percentual_recompra:.2f}%\")"
   ]
  },
  {
   "cell_type": "code",
   "execution_count": 11,
   "id": "f877525e",
   "metadata": {},
   "outputs": [
    {
     "data": {
      "text/plain": [
       "34959"
      ]
     },
     "execution_count": 11,
     "metadata": {},
     "output_type": "execute_result"
    }
   ],
   "source": [
    "total_de_alunos_unicos = len(quantidade_de_produtos_por_aluno)\n",
    "total_de_alunos_unicos"
   ]
  },
  {
   "cell_type": "code",
   "execution_count": 12,
   "id": "c76125a9",
   "metadata": {},
   "outputs": [],
   "source": [
    "# Criando um DataFrame para os dados do gráfico\n",
    "dados_grafico = pd.DataFrame({\n",
    "    'Tipo de Lunos': ['Alunos com Mais de Um Produto', 'Alunos com Apenas Um Produto'],\n",
    "    'Quantidade': [len(aluno_mais_de_um_curso), total_de_alunos_unicos]\n",
    "})"
   ]
  },
  {
   "cell_type": "code",
   "execution_count": 13,
   "id": "f46d3164",
   "metadata": {},
   "outputs": [
    {
     "data": {
      "text/html": [
       "<div>\n",
       "<style scoped>\n",
       "    .dataframe tbody tr th:only-of-type {\n",
       "        vertical-align: middle;\n",
       "    }\n",
       "\n",
       "    .dataframe tbody tr th {\n",
       "        vertical-align: top;\n",
       "    }\n",
       "\n",
       "    .dataframe thead th {\n",
       "        text-align: right;\n",
       "    }\n",
       "</style>\n",
       "<table border=\"1\" class=\"dataframe\">\n",
       "  <thead>\n",
       "    <tr style=\"text-align: right;\">\n",
       "      <th></th>\n",
       "      <th>Tipo de Lunos</th>\n",
       "      <th>Quantidade</th>\n",
       "    </tr>\n",
       "  </thead>\n",
       "  <tbody>\n",
       "    <tr>\n",
       "      <th>0</th>\n",
       "      <td>Alunos com Mais de Um Produto</td>\n",
       "      <td>7933</td>\n",
       "    </tr>\n",
       "    <tr>\n",
       "      <th>1</th>\n",
       "      <td>Alunos com Apenas Um Produto</td>\n",
       "      <td>34959</td>\n",
       "    </tr>\n",
       "  </tbody>\n",
       "</table>\n",
       "</div>"
      ],
      "text/plain": [
       "                   Tipo de Lunos  Quantidade\n",
       "0  Alunos com Mais de Um Produto        7933\n",
       "1   Alunos com Apenas Um Produto       34959"
      ]
     },
     "execution_count": 13,
     "metadata": {},
     "output_type": "execute_result"
    }
   ],
   "source": [
    "dados_grafico.head()\n"
   ]
  },
  {
   "cell_type": "code",
   "execution_count": 14,
   "id": "e495397c",
   "metadata": {},
   "outputs": [
    {
     "data": {
      "text/plain": [
       "<Figure size 800x800 with 0 Axes>"
      ]
     },
     "execution_count": 14,
     "metadata": {},
     "output_type": "execute_result"
    },
    {
     "data": {
      "text/plain": [
       "<Figure size 800x800 with 0 Axes>"
      ]
     },
     "metadata": {},
     "output_type": "display_data"
    }
   ],
   "source": [
    "# Configurando o estilo do gráfico\n",
    "sns.set_style(\"whitegrid\")\n",
    "plt.figure(figsize=(8, 8))"
   ]
  },
  {
   "cell_type": "code",
   "execution_count": 16,
   "id": "1e59642c",
   "metadata": {},
   "outputs": [
    {
     "data": {
      "image/png": "[encoded data removed]",
      "text/plain": [
       "<Figure size 640x480 with 1 Axes>"
      ]
     },
     "metadata": {},
     "output_type": "display_data"
    }
   ],
   "source": [
    "plt.pie(dados_grafico['Quantidade'], labels=dados_grafico['Tipo de Lunos'], autopct='%1.1f%%', startangle=140, colors=['#191970', '#2b8900'])\n",
    "plt.title('Distribuição de Alunos por Tipo de Produto')\n",
    "plt.axis('equal')\n",
    "plt.show()"
   ]
  },
  {
   "cell_type": "markdown",
   "id": "ef1f976b",
   "metadata": {},
   "source": [
    "## 2. Quantidade e % de alunos que compraram 1 produto, que compraram 2 produtos, que compraram 3 produtos, e por aí vai\n"
   ]
  },
  {
   "cell_type": "code",
   "execution_count": 17,
   "id": "0810684d",
   "metadata": {},
   "outputs": [
    {
     "data": {
      "text/html": [
       "<div>\n",
       "<style scoped>\n",
       "    .dataframe tbody tr th:only-of-type {\n",
       "        vertical-align: middle;\n",
       "    }\n",
       "\n",
       "    .dataframe tbody tr th {\n",
       "        vertical-align: top;\n",
       "    }\n",
       "\n",
       "    .dataframe thead th {\n",
       "        text-align: right;\n",
       "    }\n",
       "</style>\n",
       "<table border=\"1\" class=\"dataframe\">\n",
       "  <thead>\n",
       "    <tr style=\"text-align: right;\">\n",
       "      <th></th>\n",
       "      <th>Aluno</th>\n",
       "      <th>Transação</th>\n",
       "      <th>Produto</th>\n",
       "      <th>Forma Pagamento</th>\n",
       "      <th>Num Parcela Atual</th>\n",
       "      <th>Total Parcelas a Pagar</th>\n",
       "      <th>Valor Pago (nessa parcela)</th>\n",
       "      <th>Data Compra</th>\n",
       "    </tr>\n",
       "  </thead>\n",
       "  <tbody>\n",
       "    <tr>\n",
       "      <th>0</th>\n",
       "      <td>Aluno1</td>\n",
       "      <td>HP033154662</td>\n",
       "      <td>Excel</td>\n",
       "      <td>BoletoBancario</td>\n",
       "      <td>1</td>\n",
       "      <td>1</td>\n",
       "      <td>597.00</td>\n",
       "      <td>2019-01-04</td>\n",
       "    </tr>\n",
       "    <tr>\n",
       "      <th>1</th>\n",
       "      <td>Aluno2</td>\n",
       "      <td>HP131154688</td>\n",
       "      <td>Excel</td>\n",
       "      <td>CartaoDeCredito</td>\n",
       "      <td>1</td>\n",
       "      <td>1</td>\n",
       "      <td>696.96</td>\n",
       "      <td>2019-01-07</td>\n",
       "    </tr>\n",
       "    <tr>\n",
       "      <th>2</th>\n",
       "      <td>Aluno3</td>\n",
       "      <td>HP109154696</td>\n",
       "      <td>Excel</td>\n",
       "      <td>CartaoDeCredito</td>\n",
       "      <td>1</td>\n",
       "      <td>1</td>\n",
       "      <td>792.65</td>\n",
       "      <td>2019-01-08</td>\n",
       "    </tr>\n",
       "    <tr>\n",
       "      <th>3</th>\n",
       "      <td>Aluno4</td>\n",
       "      <td>HP185154697</td>\n",
       "      <td>Excel</td>\n",
       "      <td>CartaoDeCredito</td>\n",
       "      <td>1</td>\n",
       "      <td>1</td>\n",
       "      <td>696.96</td>\n",
       "      <td>2019-01-08</td>\n",
       "    </tr>\n",
       "    <tr>\n",
       "      <th>4</th>\n",
       "      <td>Aluno5</td>\n",
       "      <td>HP133154697</td>\n",
       "      <td>Excel</td>\n",
       "      <td>CartaoDeCredito</td>\n",
       "      <td>1</td>\n",
       "      <td>1</td>\n",
       "      <td>696.99</td>\n",
       "      <td>2019-01-08</td>\n",
       "    </tr>\n",
       "  </tbody>\n",
       "</table>\n",
       "</div>"
      ],
      "text/plain": [
       "    Aluno    Transação Produto  Forma Pagamento  Num Parcela Atual  \\\n",
       "0  Aluno1  HP033154662   Excel   BoletoBancario                  1   \n",
       "1  Aluno2  HP131154688   Excel  CartaoDeCredito                  1   \n",
       "2  Aluno3  HP109154696   Excel  CartaoDeCredito                  1   \n",
       "3  Aluno4  HP185154697   Excel  CartaoDeCredito                  1   \n",
       "4  Aluno5  HP133154697   Excel  CartaoDeCredito                  1   \n",
       "\n",
       "   Total Parcelas a Pagar  Valor Pago (nessa parcela) Data Compra  \n",
       "0                       1                      597.00  2019-01-04  \n",
       "1                       1                      696.96  2019-01-07  \n",
       "2                       1                      792.65  2019-01-08  \n",
       "3                       1                      696.96  2019-01-08  \n",
       "4                       1                      696.99  2019-01-08  "
      ]
     },
     "execution_count": 17,
     "metadata": {},
     "output_type": "execute_result"
    }
   ],
   "source": [
    "df.head()"
   ]
  },
  {
   "cell_type": "code",
   "execution_count": null,
   "id": "0aad3b54",
   "metadata": {},
   "outputs": [
    {
     "data": {
      "text/plain": [
       "Produto\n",
       "Apresentações         374\n",
       "AutoCAD               674\n",
       "Ciência de Dados      662\n",
       "Currículo             295\n",
       "Excel               30699\n",
       "Power BI            19851\n",
       "Python               9243\n",
       "SQL                  1190\n",
       "VBA                  8017\n",
       "Name: count, dtype: int64"
      ]
     },
     "execution_count": 23,
     "metadata": {},
     "output_type": "execute_result"
    }
   ],
   "source": [
    "# Calculando a distribuição de produtos\n",
    "# e ordenando por índice\n",
    "distribuicao_produtos = df['Produto'].value_counts().sort_index()\n",
    "distribuicao_produtos"
   ]
  },
  {
   "cell_type": "code",
   "execution_count": null,
   "id": "dc3aebe7",
   "metadata": {},
   "outputs": [
    {
     "data": {
      "text/plain": [
       "34959"
      ]
     },
     "execution_count": 24,
     "metadata": {},
     "output_type": "execute_result"
    }
   ],
   "source": [
    "total_de_alunos_unicos"
   ]
  },
  {
   "cell_type": "code",
   "execution_count": 25,
   "id": "cfa4dc49",
   "metadata": {},
   "outputs": [
    {
     "data": {
      "text/plain": [
       "Produto\n",
       "Apresentações        1.069825\n",
       "AutoCAD              1.927973\n",
       "Ciência de Dados     1.893647\n",
       "Currículo            0.843846\n",
       "Excel               87.814297\n",
       "Power BI            56.783661\n",
       "Python              26.439543\n",
       "SQL                  3.403988\n",
       "VBA                 22.932578\n",
       "Name: count, dtype: float64"
      ]
     },
     "execution_count": 25,
     "metadata": {},
     "output_type": "execute_result"
    }
   ],
   "source": [
    "porcertagem_distribuição_produtos = (distribuicao_produtos / total_de_alunos_unicos) * 100\n",
    "porcertagem_distribuição_produtos"
   ]
  },
  {
   "cell_type": "code",
   "execution_count": null,
   "id": "3a7ec1e5",
   "metadata": {},
   "outputs": [
    {
     "data": {
      "text/html": [
       "<div>\n",
       "<style scoped>\n",
       "    .dataframe tbody tr th:only-of-type {\n",
       "        vertical-align: middle;\n",
       "    }\n",
       "\n",
       "    .dataframe tbody tr th {\n",
       "        vertical-align: top;\n",
       "    }\n",
       "\n",
       "    .dataframe thead th {\n",
       "        text-align: right;\n",
       "    }\n",
       "</style>\n",
       "<table border=\"1\" class=\"dataframe\">\n",
       "  <thead>\n",
       "    <tr style=\"text-align: right;\">\n",
       "      <th></th>\n",
       "      <th>Produto</th>\n",
       "      <th>Porcentagem</th>\n",
       "    </tr>\n",
       "  </thead>\n",
       "  <tbody>\n",
       "    <tr>\n",
       "      <th>0</th>\n",
       "      <td>Apresentações</td>\n",
       "      <td>1.069825</td>\n",
       "    </tr>\n",
       "    <tr>\n",
       "      <th>1</th>\n",
       "      <td>AutoCAD</td>\n",
       "      <td>1.927973</td>\n",
       "    </tr>\n",
       "    <tr>\n",
       "      <th>2</th>\n",
       "      <td>Ciência de Dados</td>\n",
       "      <td>1.893647</td>\n",
       "    </tr>\n",
       "    <tr>\n",
       "      <th>3</th>\n",
       "      <td>Currículo</td>\n",
       "      <td>0.843846</td>\n",
       "    </tr>\n",
       "    <tr>\n",
       "      <th>4</th>\n",
       "      <td>Excel</td>\n",
       "      <td>87.814297</td>\n",
       "    </tr>\n",
       "    <tr>\n",
       "      <th>5</th>\n",
       "      <td>Power BI</td>\n",
       "      <td>56.783661</td>\n",
       "    </tr>\n",
       "    <tr>\n",
       "      <th>6</th>\n",
       "      <td>Python</td>\n",
       "      <td>26.439543</td>\n",
       "    </tr>\n",
       "    <tr>\n",
       "      <th>7</th>\n",
       "      <td>SQL</td>\n",
       "      <td>3.403988</td>\n",
       "    </tr>\n",
       "    <tr>\n",
       "      <th>8</th>\n",
       "      <td>VBA</td>\n",
       "      <td>22.932578</td>\n",
       "    </tr>\n",
       "  </tbody>\n",
       "</table>\n",
       "</div>"
      ],
      "text/plain": [
       "            Produto  Porcentagem\n",
       "0     Apresentações     1.069825\n",
       "1           AutoCAD     1.927973\n",
       "2  Ciência de Dados     1.893647\n",
       "3         Currículo     0.843846\n",
       "4             Excel    87.814297\n",
       "5          Power BI    56.783661\n",
       "6            Python    26.439543\n",
       "7               SQL     3.403988\n",
       "8               VBA    22.932578"
      ]
     },
     "execution_count": 28,
     "metadata": {},
     "output_type": "execute_result"
    }
   ],
   "source": [
    "# Criando um DataFrame para porcentagens\n",
    "df_porcentagem = porcertagem_distribuição_produtos.reset_index()\n",
    "df_porcentagem.columns = ['Produto', 'Porcentagem']\n",
    "# Exibindo o DataFrame com porcentagens\n",
    "df_porcentagem\n"
   ]
  },
  {
   "cell_type": "code",
   "execution_count": null,
   "id": "4d6b1f30",
   "metadata": {},
   "outputs": [
    {
     "name": "stderr",
     "output_type": "stream",
     "text": [
      "C:\\Users\\Casa\\AppData\\Local\\Temp\\ipykernel_4924\\685809507.py:4: FutureWarning: \n",
      "\n",
      "Passing `palette` without assigning `hue` is deprecated and will be removed in v0.14.0. Assign the `x` variable to `hue` and set `legend=False` for the same effect.\n",
      "\n",
      "  sns.barplot(x='Produto', y='Porcentagem', data=df_porcentagem, palette='viridis')\n"
     ]
    },
    {
     "data": {
      "image/png": "[encoded data removed]",
      "text/plain": [
       "<Figure size 1000x600 with 1 Axes>"
      ]
     },
     "metadata": {},
     "output_type": "display_data"
    }
   ],
   "source": [
    "# Plotando o gráfico de barras\n",
    "sns.set_style(\"whitegrid\")\n",
    "plt.figure(figsize=(10, 6))\n",
    "sns.barplot(x='Produto', y='Porcentagem', data=df_porcentagem, palette='viridis')\n",
    "ax = sns.barplot(x='Produto', y='Porcentagem', data=df_porcentagem,palette='viridis', hue='Produto', legend=False)\n",
    "\n",
    "# Adicionando rótulos de porcentagem acima das barras\n",
    "for p in ax.patches:\n",
    "    ax.annotate(f'{p.get_height():.1f}%',\n",
    "                (p.get_x() + p.get_width() / 2., p.get_height()),\n",
    "                ha='center', va='center', xytext=(0, 10), textcoords='offset points',\n",
    "                fontsize=10, color='black')\n",
    "plt.title('Distribuição de Produtos por Aluno')\n",
    "plt.xlabel('Produto')\n",
    "plt.ylabel('Porcentagem (%)')\n",
    "plt.show()"
   ]
  }
 ],
 "metadata": {
  "kernelspec": {
   "display_name": "Python 3",
   "language": "python",
   "name": "python3"
  },
  "language_info": {
   "codemirror_mode": {
    "name": "ipython",
    "version": 3
   },
   "file_extension": ".py",
   "mimetype": "text/x-python",
   "name": "python",
   "nbconvert_exporter": "python",
   "pygments_lexer": "ipython3",
   "version": "3.13.3"
  }
 },
 "nbformat": 4,
 "nbformat_minor": 5
}
